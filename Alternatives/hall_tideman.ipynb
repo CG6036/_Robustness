{
 "cells": [
  {
   "cell_type": "markdown",
   "metadata": {},
   "source": [
    "### 1) Hall-Tideman Index Calculation"
   ]
  },
  {
   "cell_type": "code",
   "execution_count": 1,
   "metadata": {},
   "outputs": [],
   "source": [
    "def calculate_HTI(shares):\n",
    "    N = len(shares) # num_firms\n",
    "    # sort tag shares in descending order\n",
    "    sorted_shares = sorted(shares, reverse = True)\n",
    "    # calculate summation part of the denominator\n",
    "    sum_part = sum(sorted_shares[i] * (N-(i+1)) for i in range(N))\n",
    "    # calculate HTI\n",
    "    HTI = 1/(N+sum_part)\n",
    "    return HTI"
   ]
  },
  {
   "cell_type": "code",
   "execution_count": 2,
   "metadata": {},
   "outputs": [
    {
     "name": "stdout",
     "output_type": "stream",
     "text": [
      "Hall-Tideman Index: 0.1667\n"
     ]
    }
   ],
   "source": [
    "# Example usage\n",
    "market_shares = [0.40, 0.30, 0.20, 0.10]\n",
    "hti = calculate_HTI(market_shares)\n",
    "print(f\"Hall-Tideman Index: {hti:.4f}\")\n"
   ]
  },
  {
   "cell_type": "markdown",
   "metadata": {},
   "source": [
    "### 2) Gini Coefficient"
   ]
  },
  {
   "cell_type": "code",
   "execution_count": 3,
   "metadata": {},
   "outputs": [],
   "source": [
    "def calculate_gini(shares):\n",
    "    N = len(shares)\n",
    "    total_sum = sum(shares)\n",
    "    abs_diffs = 0\n",
    "    for i in range(N):\n",
    "        for j in range(N):\n",
    "            abs_diffs += abs(shares[i]-shares[j])\n",
    "    gini_coeff = abs_diffs / (2 * N * total_sum)\n",
    "    return gini_coeff"
   ]
  },
  {
   "cell_type": "code",
   "execution_count": 17,
   "metadata": {},
   "outputs": [
    {
     "name": "stdout",
     "output_type": "stream",
     "text": [
      "Gini Coefficient: 0.2500\n"
     ]
    }
   ],
   "source": [
    "# Example usage\n",
    "market_shares = [0.40, 0.30, 0.20, 0.10]\n",
    "gini = calculate_gini(market_shares)\n",
    "print(f\"Gini Coefficient: {gini:.4f}\")\n"
   ]
  }
 ],
 "metadata": {
  "kernelspec": {
   "display_name": "ahnlab",
   "language": "python",
   "name": "python3"
  },
  "language_info": {
   "codemirror_mode": {
    "name": "ipython",
    "version": 3
   },
   "file_extension": ".py",
   "mimetype": "text/x-python",
   "name": "python",
   "nbconvert_exporter": "python",
   "pygments_lexer": "ipython3",
   "version": "3.10.4"
  }
 },
 "nbformat": 4,
 "nbformat_minor": 2
}
