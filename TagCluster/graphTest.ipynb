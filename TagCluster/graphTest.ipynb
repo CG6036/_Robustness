{
 "cells": [
  {
   "cell_type": "markdown",
   "metadata": {},
   "source": [
    "# Graph Vr. of Co-Occurance based Clustering"
   ]
  },
  {
   "cell_type": "markdown",
   "metadata": {},
   "source": [
    "### 1) Sample Data Preparation"
   ]
  },
  {
   "cell_type": "code",
   "execution_count": 1,
   "metadata": {},
   "outputs": [],
   "source": [
    "import pandas as pd\n",
    "from collections import defaultdict\n",
    "from itertools import combinations\n",
    "\n",
    "# Example DataFrame of posts with tags\n",
    "data = {'post_id': [1, 2, 3, 4],\n",
    "        'tags': [['python', 'pandas'], ['python', 'numpy'], ['java', 'spring'], ['python', 'java']]}\n",
    "df = pd.DataFrame(data)\n",
    "\n",
    "# Extract tag pairs\n",
    "tag_pairs = defaultdict(int)\n",
    "for tags in df['tags']:\n",
    "    for pair in combinations(tags, 2):\n",
    "        tag_pairs[tuple(sorted(pair))] += 1\n",
    "\n",
    "# Convert to DataFrame\n",
    "tag_pairs_df = pd.DataFrame(tag_pairs.items(), columns=['pair', 'count'])"
   ]
  },
  {
   "cell_type": "code",
   "execution_count": 2,
   "metadata": {},
   "outputs": [
    {
     "data": {
      "text/html": [
       "<div>\n",
       "<style scoped>\n",
       "    .dataframe tbody tr th:only-of-type {\n",
       "        vertical-align: middle;\n",
       "    }\n",
       "\n",
       "    .dataframe tbody tr th {\n",
       "        vertical-align: top;\n",
       "    }\n",
       "\n",
       "    .dataframe thead th {\n",
       "        text-align: right;\n",
       "    }\n",
       "</style>\n",
       "<table border=\"1\" class=\"dataframe\">\n",
       "  <thead>\n",
       "    <tr style=\"text-align: right;\">\n",
       "      <th></th>\n",
       "      <th>post_id</th>\n",
       "      <th>tags</th>\n",
       "    </tr>\n",
       "  </thead>\n",
       "  <tbody>\n",
       "    <tr>\n",
       "      <th>0</th>\n",
       "      <td>1</td>\n",
       "      <td>[python, pandas]</td>\n",
       "    </tr>\n",
       "    <tr>\n",
       "      <th>1</th>\n",
       "      <td>2</td>\n",
       "      <td>[python, numpy]</td>\n",
       "    </tr>\n",
       "    <tr>\n",
       "      <th>2</th>\n",
       "      <td>3</td>\n",
       "      <td>[java, spring]</td>\n",
       "    </tr>\n",
       "    <tr>\n",
       "      <th>3</th>\n",
       "      <td>4</td>\n",
       "      <td>[python, java]</td>\n",
       "    </tr>\n",
       "  </tbody>\n",
       "</table>\n",
       "</div>"
      ],
      "text/plain": [
       "   post_id              tags\n",
       "0        1  [python, pandas]\n",
       "1        2   [python, numpy]\n",
       "2        3    [java, spring]\n",
       "3        4    [python, java]"
      ]
     },
     "execution_count": 2,
     "metadata": {},
     "output_type": "execute_result"
    }
   ],
   "source": [
    "df"
   ]
  },
  {
   "cell_type": "code",
   "execution_count": 3,
   "metadata": {},
   "outputs": [
    {
     "data": {
      "text/plain": [
       "defaultdict(int,\n",
       "            {('pandas', 'python'): 1,\n",
       "             ('numpy', 'python'): 1,\n",
       "             ('java', 'spring'): 1,\n",
       "             ('java', 'python'): 1})"
      ]
     },
     "execution_count": 3,
     "metadata": {},
     "output_type": "execute_result"
    }
   ],
   "source": [
    "tag_pairs"
   ]
  },
  {
   "cell_type": "code",
   "execution_count": 4,
   "metadata": {},
   "outputs": [
    {
     "data": {
      "text/html": [
       "<div>\n",
       "<style scoped>\n",
       "    .dataframe tbody tr th:only-of-type {\n",
       "        vertical-align: middle;\n",
       "    }\n",
       "\n",
       "    .dataframe tbody tr th {\n",
       "        vertical-align: top;\n",
       "    }\n",
       "\n",
       "    .dataframe thead th {\n",
       "        text-align: right;\n",
       "    }\n",
       "</style>\n",
       "<table border=\"1\" class=\"dataframe\">\n",
       "  <thead>\n",
       "    <tr style=\"text-align: right;\">\n",
       "      <th></th>\n",
       "      <th>pair</th>\n",
       "      <th>count</th>\n",
       "    </tr>\n",
       "  </thead>\n",
       "  <tbody>\n",
       "    <tr>\n",
       "      <th>0</th>\n",
       "      <td>(pandas, python)</td>\n",
       "      <td>1</td>\n",
       "    </tr>\n",
       "    <tr>\n",
       "      <th>1</th>\n",
       "      <td>(numpy, python)</td>\n",
       "      <td>1</td>\n",
       "    </tr>\n",
       "    <tr>\n",
       "      <th>2</th>\n",
       "      <td>(java, spring)</td>\n",
       "      <td>1</td>\n",
       "    </tr>\n",
       "    <tr>\n",
       "      <th>3</th>\n",
       "      <td>(java, python)</td>\n",
       "      <td>1</td>\n",
       "    </tr>\n",
       "  </tbody>\n",
       "</table>\n",
       "</div>"
      ],
      "text/plain": [
       "               pair  count\n",
       "0  (pandas, python)      1\n",
       "1   (numpy, python)      1\n",
       "2    (java, spring)      1\n",
       "3    (java, python)      1"
      ]
     },
     "execution_count": 4,
     "metadata": {},
     "output_type": "execute_result"
    }
   ],
   "source": [
    "tag_pairs_df"
   ]
  },
  {
   "cell_type": "markdown",
   "metadata": {},
   "source": [
    "### 2) Create Co-Occurance Matrix"
   ]
  },
  {
   "cell_type": "code",
   "execution_count": 5,
   "metadata": {},
   "outputs": [],
   "source": [
    "import networkx as nx\n",
    "\n",
    "# Create a graph\n",
    "G = nx.Graph()\n",
    "\n",
    "# Add edges with weights\n",
    "for pair, count in tag_pairs.items():\n",
    "    G.add_edge(pair[0], pair[1], weight=count)"
   ]
  },
  {
   "cell_type": "code",
   "execution_count": 11,
   "metadata": {},
   "outputs": [
    {
     "data": {
      "image/png": "[encoded data removed]",
      "text/plain": [
       "<Figure size 640x480 with 1 Axes>"
      ]
     },
     "metadata": {},
     "output_type": "display_data"
    }
   ],
   "source": [
    "import matplotlib.pyplot as plt\n",
    "pos = nx.spring_layout(G)\n",
    "nx.draw(G, pos)\n",
    "nx.draw_networkx_labels(G, pos, font_size=12)\n",
    "# plt.savefig(\"filename.png\")\n",
    "\n",
    "plt.title(\"Network visualization (original)\")\n",
    "plt.show()"
   ]
  },
  {
   "cell_type": "markdown",
   "metadata": {},
   "source": [
    "### Louvain Community Detection"
   ]
  },
  {
   "cell_type": "code",
   "execution_count": 15,
   "metadata": {},
   "outputs": [
    {
     "name": "stdout",
     "output_type": "stream",
     "text": [
      "Tag: pandas, Community: 1\n",
      "Tag: python, Community: 1\n",
      "Tag: numpy, Community: 1\n",
      "Tag: java, Community: 0\n",
      "Tag: spring, Community: 0\n"
     ]
    }
   ],
   "source": [
    "import community as community_louvain\n",
    "\n",
    "# Perform Louvain community detection\n",
    "partition = community_louvain.best_partition(G, weight='weight')\n",
    "\n",
    "# Print the communities\n",
    "for tag, community_id in partition.items():\n",
    "    print(f\"Tag: {tag}, Community: {community_id}\")"
   ]
  },
  {
   "cell_type": "code",
   "execution_count": 21,
   "metadata": {},
   "outputs": [
    {
     "data": {
      "image/png": "[encoded data removed]",
      "text/plain": [
       "<Figure size 640x480 with 1 Axes>"
      ]
     },
     "metadata": {},
     "output_type": "display_data"
    }
   ],
   "source": [
    "import matplotlib.pyplot as plt\n",
    "# Get the communities\n",
    "communities = defaultdict(list)\n",
    "for node, community in partition.items():\n",
    "    communities[community].append(node)\n",
    "\n",
    "# Assign colors to communities\n",
    "colors = {}\n",
    "for community_id, nodes in communities.items():\n",
    "    for node in nodes:\n",
    "        colors[node] = community_id\n",
    "\n",
    "# Draw the graph\n",
    "pos = nx.spring_layout(G)  # positions for all nodes\n",
    "\n",
    "# Draw nodes\n",
    "node_color = [colors[node] for node in G.nodes()]\n",
    "nx.draw_networkx_nodes(G, pos, node_color=node_color, cmap=plt.cm.jet, node_size=50)\n",
    "\n",
    "# Draw edges\n",
    "nx.draw_networkx_edges(G, pos, width=1.0, alpha=0.5)\n",
    "\n",
    "# Draw labels\n",
    "nx.draw_networkx_labels(G, pos, font_size=12)\n",
    "\n",
    "plt.title(\"Network visualization with community detection\")\n",
    "plt.show()"
   ]
  },
  {
   "cell_type": "markdown",
   "metadata": {},
   "source": [
    "### CuGraph Implementation using GPU"
   ]
  },
  {
   "cell_type": "code",
   "execution_count": null,
   "metadata": {},
   "outputs": [],
   "source": [
    "import pandas as pd\n",
    "from collections import defaultdict\n",
    "from itertools import combinations\n",
    "import cudf\n",
    "import cugraph\n",
    "import networkx as nx\n",
    "import matplotlib.pyplot as plt\n",
    "\n",
    "# Example DataFrame of posts with tags\n",
    "# For your use case, replace this with actual data loading\n",
    "data = {'post_id': range(40000),\n",
    "        'tags': [list(f'tag{i}' for i in range(1, 6)) for _ in range(40000)]}\n",
    "df = pd.DataFrame(data)\n",
    "\n",
    "# Extract tag pairs\n",
    "tag_pairs = defaultdict(int)\n",
    "for tags in df['tags']:\n",
    "    for pair in combinations(tags, 2):\n",
    "        tag_pairs[tuple(sorted(pair))] += 1\n",
    "\n",
    "# Convert tag pairs to a DataFrame\n",
    "edges_df = pd.DataFrame(tag_pairs.items(), columns=['pair', 'count'])\n",
    "edges_df[['source', 'target']] = pd.DataFrame(edges_df['pair'].tolist(), index=edges_df.index)\n",
    "edges_df = edges_df[['source', 'target', 'count']]\n",
    "\n",
    "# Create a cuDF DataFrame for cuGraph\n",
    "gdf = cudf.DataFrame(edges_df)\n",
    "\n",
    "# Create a graph using cuGraph\n",
    "G = cugraph.Graph()\n",
    "G.from_cudf_edgelist(gdf, source='source', destination='target', edge_attr='count')\n",
    "\n",
    "# Perform Louvain community detection\n",
    "parts, _ = cugraph.louvain(G)\n",
    "\n",
    "# Convert the result back to a pandas DataFrame\n",
    "parts = parts.to_pandas()\n",
    "\n",
    "# Create a NetworkX graph for visualization\n",
    "G_nx = nx.Graph()\n",
    "for index, row in edges_df.iterrows():\n",
    "    G_nx.add_edge(row['source'], row['target'], weight=row['count'])\n",
    "\n",
    "# Assign colors to each community\n",
    "communities = defaultdict(list)\n",
    "for index, row in parts.iterrows():\n",
    "    communities[row['partition']].append(row['vertex'])\n",
    "\n",
    "colors = {}\n",
    "for community_id, nodes in communities.items():\n",
    "    for node in nodes:\n",
    "        colors[node] = community_id\n",
    "\n",
    "# Draw the graph\n",
    "pos = nx.spring_layout(G_nx)  # positions for all nodes\n",
    "\n",
    "# Draw nodes\n",
    "node_color = [colors[node] for node in G_nx.nodes()]\n",
    "nx.draw_networkx_nodes(G_nx, pos, node_color=node_color, cmap=plt.cm.jet, node_size=20)\n",
    "\n",
    "# Draw edges\n",
    "nx.draw_networkx_edges(G_nx, pos, width=0.5, alpha=0.5)\n",
    "\n",
    "# Draw labels (optional, can be omitted for large graphs)\n",
    "# nx.draw_networkx_labels(G_nx, pos, font_size=8)\n",
    "\n",
    "plt.title(\"Network visualization with community detection (GPU)\")\n",
    "plt.show()\n"
   ]
  },
  {
   "cell_type": "markdown",
   "metadata": {},
   "source": [
    "### Graph Visualization using GPU"
   ]
  },
  {
   "cell_type": "code",
   "execution_count": null,
   "metadata": {},
   "outputs": [],
   "source": [
    "import pandas as pd\n",
    "from collections import defaultdict\n",
    "from itertools import combinations\n",
    "import cudf\n",
    "import cugraph\n",
    "import dash\n",
    "from dash import dcc, html\n",
    "import plotly.graph_objs as go\n",
    "\n",
    "# Example DataFrame of posts with tags\n",
    "# For your use case, replace this with actual data loading\n",
    "data = {'post_id': range(40000),\n",
    "        'tags': [list(f'tag{i}' for i in range(1, 6)) for _ in range(40000)]}\n",
    "df = pd.DataFrame(data)\n",
    "\n",
    "# Extract tag pairs\n",
    "tag_pairs = defaultdict(int)\n",
    "for tags in df['tags']:\n",
    "    for pair in combinations(tags, 2):\n",
    "        tag_pairs[tuple(sorted(pair))] += 1\n",
    "\n",
    "# Convert tag pairs to a DataFrame\n",
    "edges_df = pd.DataFrame(tag_pairs.items(), columns=['pair', 'count'])\n",
    "edges_df[['source', 'target']] = pd.DataFrame(edges_df['pair'].tolist(), index=edges_df.index)\n",
    "edges_df = edges_df[['source', 'target', 'count']]\n",
    "\n",
    "# Create a cuDF DataFrame for cuGraph\n",
    "gdf = cudf.DataFrame(edges_df)\n",
    "\n",
    "# Create a graph using cuGraph\n",
    "G = cugraph.Graph()\n",
    "G.from_cudf_edgelist(gdf, source='source', destination='target', edge_attr='count')\n",
    "\n",
    "# Perform Louvain community detection\n",
    "parts, _ = cugraph.louvain(G)\n",
    "\n",
    "# Convert the result back to a pandas DataFrame\n",
    "parts = parts.to_pandas()\n",
    "\n",
    "# Create a dictionary for community colors\n",
    "colors = {node: partition for node, partition in zip(parts['vertex'], parts['partition'])}\n",
    "\n",
    "# Prepare data for Plotly\n",
    "edge_trace = []\n",
    "for edge in G.view_edge_list().to_pandas().itertuples(index=False):\n",
    "    edge_trace.append(\n",
    "        go.Scatter(\n",
    "            x=[edge.src, edge.dst, None],\n",
    "            y=[edge.src, edge.dst, None],\n",
    "            line=dict(width=0.5, color='#888'),\n",
    "            hoverinfo='none',\n",
    "            mode='lines'\n",
    "        )\n",
    "    )\n",
    "\n",
    "node_trace = go.Scatter(\n",
    "    x=[],\n",
    "    y=[],\n",
    "    text=[],\n",
    "    mode='markers+text',\n",
    "    hoverinfo='text',\n",
    "    marker=dict(\n",
    "        showscale=True,\n",
    "        colorscale='Jet',\n",
    "        color=[],\n",
    "        size=10,\n",
    "        colorbar=dict(\n",
    "            thickness=15,\n",
    "            title='Community',\n",
    "            xanchor='left',\n",
    "            titleside='right'\n",
    "        ),\n",
    "    )\n",
    ")\n",
    "\n",
    "for node in G.view_vertex_list().to_pandas()['vertex']:\n",
    "    node_trace['x'] += tuple([node])\n",
    "    node_trace['y'] += tuple([node])\n",
    "    node_trace['text'] += tuple([str(node)])\n",
    "    node_trace['marker']['color'] += tuple([colors[node]])\n",
    "\n",
    "# Create Dash app\n",
    "app = dash.Dash(__name__)\n",
    "\n",
    "app.layout = html.Div([\n",
    "    dcc.Graph(\n",
    "        id='network-graph',\n",
    "        figure={\n",
    "            'data': edge_trace + [node_trace],\n",
    "            'layout': go.Layout(\n",
    "                title='Network Visualization with Community Detection (GPU)',\n",
    "                showlegend=False,\n",
    "                hovermode='closest',\n",
    "                margin=dict(b=0, l=0, r=0, t=40),\n",
    "                xaxis=dict(showgrid=False, zeroline=False, showticklabels=False),\n",
    "                yaxis=dict(showgrid=False, zeroline=False, showticklabels=False),\n",
    "            )\n",
    "        }\n",
    "    )\n",
    "])\n",
    "\n",
    "if __name__ == '__main__':\n",
    "    app.run_server(debug=True)\n"
   ]
  }
 ],
 "metadata": {
  "kernelspec": {
   "display_name": "ahnlab",
   "language": "python",
   "name": "python3"
  },
  "language_info": {
   "codemirror_mode": {
    "name": "ipython",
    "version": 3
   },
   "file_extension": ".py",
   "mimetype": "text/x-python",
   "name": "python",
   "nbconvert_exporter": "python",
   "pygments_lexer": "ipython3",
   "version": "3.10.4"
  }
 },
 "nbformat": 4,
 "nbformat_minor": 2
}
