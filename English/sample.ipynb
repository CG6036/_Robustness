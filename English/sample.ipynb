{
 "cells": [
  {
   "cell_type": "code",
   "execution_count": 1,
   "metadata": {},
   "outputs": [
    {
     "data": {
      "text/plain": [
       "<sqlite3.Cursor at 0x7fd8171f5840>"
      ]
     },
     "execution_count": 1,
     "metadata": {},
     "output_type": "execute_result"
    }
   ],
   "source": [
    "import sqlite3\n",
    "# Connect to the database\n",
    "conn = sqlite3.connect('stack.db')\n",
    "\n",
    "# Create a cursor object\n",
    "cursor = conn.cursor()\n",
    "\n",
    "# Execute a sample query (replace 'users' with the actual table name)\n",
    "cursor.execute(\"SELECT * FROM posts limit 10\")\n"
   ]
  },
  {
   "cell_type": "code",
   "execution_count": 2,
   "metadata": {},
   "outputs": [
    {
     "name": "stdout",
     "output_type": "stream",
     "text": [
      "(1, 'question', 59, 188045, 6, 0, 0, '2010-08-05 19:34:49.473', None, 161, None, 9, None, '[\"|word-choice|tenses|politeness|subjunctive-mood|can-could|\"]', 'When do I use \"can\" or \"could\"?', '<p>When should I use <em>can</em>? When should I use <em>could</em>?<br>\\nWhat is right under what context?</p>\\n', 300, '2013-01-24 22:00:48.513', '2015-06-12 21:02:26.507')\n",
      "(2, 'question', 61, 51713, 7, 5, 0, '2010-08-05 19:37:29.890', None, 12, None, 16, None, '[\"|meaning|etymology|\"]', 'Where does the \"quint\" in \"quintessential\" come from?', '<p>Doesn\\'t \"quint\" mean \"five\"?  What does that have to do with the meaning of \"quintessential\"?</p>\\n', 9001, '2016-12-19 20:32:34.127', '2016-12-19 20:32:34.127')\n",
      "(3, 'question', 68, 35015, 10, 8, 0, '2010-08-05 19:39:40.743', None, None, None, 13078, None, '[\"|differences|future|will-future|shall-future|\"]', 'When should I use \"shall\" versus \"will\"?', '<p>Which is the correct use of these two words, and in which context should one be used rather than the other?</p>\\n', 9001, '2016-12-19 20:32:55.093', '2022-08-08 05:10:46.077')\n",
      "(5, 'answer', 6, 0, 0, 0, 0, '2010-08-05 19:40:58.213', None, None, 2, 21, None, None, None, \"<p>It's the fifth element after earth, air, fire, and water, so it is presumably superior to those or completing those.</p>\\n\", None, None, '2010-08-05 19:40:58.213')\n",
      "(6, 'question', 30, 6852, 9, 6, 0, '2010-08-05 19:41:04.000', None, 10600, None, 15, None, '[\"|word-choice|etymology|differences|conjunctions|historical-change|\"]', 'When did \"while\" and \"whilst\" become interchangeable?', '<p>I think most folk happily use either \"while\" or \"whilst\". I\\'ve a vague recollection that at one time \"while\" indicated the passing of time and \"whilst\" was essentially the same as \"whereas\" or \"although\".</p>\\n\\n<p>So using while for time passing...</p>\\n\\n<blockquote>\\n  <p>While I was walking down the street the sun was shining.</p>\\n</blockquote>\\n\\n<p>... and whilst for whereas/although...</p>\\n\\n<blockquote>\\n  <p>Whilst I was walking down the street I often prefer to hop.</p>\\n</blockquote>\\n\\n<p>Any views?</p>\\n', 77227, '2017-07-29 01:17:16.993', '2020-06-10 07:48:54.703')\n",
      "(7, 'question', 33, 64036, 13, 2, 0, '2010-08-05 19:41:48.600', None, None, None, 9, None, '[\"|word-choice|grammar|modal-verbs|auxiliary-verbs|\"]', '\"May\" & \"Might\": What\\'s the right context?', '<blockquote>\\n<ul>\\n<li>I may not be coming in tomorrow...</li>\\n<li>I might not be coming in tomorrow...</li>\\n</ul>\\n</blockquote>\\n<p>When should I use &quot;may&quot; and when should I use &quot;might&quot;?</p>\\n', 280595, '2021-10-29 10:59:00.560', '2021-10-29 10:59:00.560')\n",
      "(8, 'question', 59, 58340, 9, 8, 0, '2010-08-05 19:42:24.170', None, 29, None, 13, None, '[\"|verbs|contractions|auxiliary-verbs|\"]', 'Is it appropriate to use short form of \"have\" (\\'ve) when it means possession?', '<p>I feel uncomfortable saying sentences like the following: </p>\\n\\n<ul>\\n<li>\"<strong>I\\'ve</strong> a car\" instead of \"<strong>I have</strong> a car\"</li>\\n<li>\"<strong>They\\'ve</strong> a great time\" instead of \"<strong>They have</strong> a great time\"</li>\\n<li>\"<strong>He\\'s</strong> a pen\" instead of \"<strong>He has</strong> a pen\"</li>\\n<li>etc</li>\\n</ul>\\n\\n<p>I ask this because I read this sort of thing in a book.</p>\\n\\n<p>Are they correct? And what is the rule? Can you use such forms in a formal setting?</p>\\n', 300, '2013-09-21 18:16:54.323', '2020-04-05 18:57:24.353')\n",
      "(9, 'answer', 3, 0, 0, 1, 0, '2010-08-05 19:42:25.120', None, None, 2, 13078, None, None, None, '<p>\"quint\" means fifth. The \"quintessence\" is the fifth essence.</p>\\n\\n<p>The fifth element was the one supposed to come after air, fire, earth, and water in the Medieval Age.</p>\\n', None, None, '2010-08-05 19:42:25.120')\n",
      "(10, 'answer', 3, 0, 0, 3, 0, '2010-08-05 19:45:06.567', None, None, 6, 17, None, None, None, '<p>It seems they are interchangeable, but <a href=\"http://www.merriam-webster.com/dictionary/whilst\" rel=\"nofollow\">whilst</a> is primarily used by the British.</p>\\n', 17, '2010-08-13 11:30:31.217', '2010-08-13 11:30:31.217')\n",
      "(11, 'answer', 7, 0, 0, 2, 0, '2010-08-05 19:45:14.723', None, None, 3, 9, None, None, None, '<p><a href=\"http://en.wikipedia.org/wiki/Shall_and_will\">http://en.wikipedia.org/wiki/Shall_and_will</a></p>\\n\\n<blockquote>\\n  <p>Shall and will are both modal verbs in\\n  English used to express propositions\\n  about the future. According to the New\\n  Oxford Dictionary of English, In\\n  modern English the interchangeable use\\n  of shall and will is an acceptable\\n  part of standard British and US\\n  English.</p>\\n</blockquote>\\n', None, None, '2010-08-05 19:45:14.723')\n"
     ]
    }
   ],
   "source": [
    "# Fetch all rows\n",
    "rows = cursor.fetchall()\n",
    "\n",
    "# Display the data\n",
    "for row in rows:\n",
    "    print(row)"
   ]
  },
  {
   "cell_type": "code",
   "execution_count": 3,
   "metadata": {},
   "outputs": [],
   "source": [
    "# Close the connection\n",
    "conn.close()"
   ]
  },
  {
   "cell_type": "code",
   "execution_count": null,
   "metadata": {},
   "outputs": [],
   "source": []
  },
  {
   "cell_type": "markdown",
   "metadata": {},
   "source": [
    "### use Pandas for Sqlite DB"
   ]
  },
  {
   "cell_type": "code",
   "execution_count": 6,
   "metadata": {},
   "outputs": [],
   "source": [
    "import sqlite3\n",
    "import pandas as pd\n",
    "# Connect to the SQLite database\n",
    "conn = sqlite3.connect('stack.db')"
   ]
  },
  {
   "cell_type": "code",
   "execution_count": 13,
   "metadata": {},
   "outputs": [],
   "source": [
    "# query and toPandas\n",
    "\n",
    "# Define date range\n",
    "start_date = '2023-01-01'\n",
    "end_date = '2023-12-31'\n",
    "query = f\"SELECT * FROM posts WHERE creation_date BETWEEN '{start_date}' AND '{end_date}';\"\n",
    "\n",
    "df = pd.read_sql_query(query, conn)"
   ]
  },
  {
   "cell_type": "code",
   "execution_count": 14,
   "metadata": {},
   "outputs": [
    {
     "data": {
      "text/html": [
       "<div>\n",
       "<style scoped>\n",
       "    .dataframe tbody tr th:only-of-type {\n",
       "        vertical-align: middle;\n",
       "    }\n",
       "\n",
       "    .dataframe tbody tr th {\n",
       "        vertical-align: top;\n",
       "    }\n",
       "\n",
       "    .dataframe thead th {\n",
       "        text-align: right;\n",
       "    }\n",
       "</style>\n",
       "<table border=\"1\" class=\"dataframe\">\n",
       "  <thead>\n",
       "    <tr style=\"text-align: right;\">\n",
       "      <th></th>\n",
       "      <th>id</th>\n",
       "      <th>post_type</th>\n",
       "      <th>score</th>\n",
       "      <th>views</th>\n",
       "      <th>answers</th>\n",
       "      <th>comments</th>\n",
       "      <th>favorites</th>\n",
       "      <th>creation_date</th>\n",
       "      <th>closed_date</th>\n",
       "      <th>accepted_answer_id</th>\n",
       "      <th>parent_id</th>\n",
       "      <th>owner_user_id</th>\n",
       "      <th>community_owned_date</th>\n",
       "      <th>tags</th>\n",
       "      <th>title</th>\n",
       "      <th>body</th>\n",
       "      <th>last_editor_user_id</th>\n",
       "      <th>last_edit_date</th>\n",
       "      <th>last_activity_date</th>\n",
       "    </tr>\n",
       "  </thead>\n",
       "  <tbody>\n",
       "    <tr>\n",
       "      <th>0</th>\n",
       "      <td>74972583</td>\n",
       "      <td>answer</td>\n",
       "      <td>1</td>\n",
       "      <td>0</td>\n",
       "      <td>0</td>\n",
       "      <td>2</td>\n",
       "      <td>0</td>\n",
       "      <td>2023-01-01 00:00:11.643</td>\n",
       "      <td>None</td>\n",
       "      <td>NaN</td>\n",
       "      <td>74961937.0</td>\n",
       "      <td>6309.0</td>\n",
       "      <td>None</td>\n",
       "      <td>None</td>\n",
       "      <td>None</td>\n",
       "      <td>&lt;p&gt;check if the case matters, use &lt;code&gt;java&lt;/...</td>\n",
       "      <td>NaN</td>\n",
       "      <td>None</td>\n",
       "      <td>2023-01-01 00:00:11.643</td>\n",
       "    </tr>\n",
       "    <tr>\n",
       "      <th>1</th>\n",
       "      <td>74972584</td>\n",
       "      <td>answer</td>\n",
       "      <td>3</td>\n",
       "      <td>0</td>\n",
       "      <td>0</td>\n",
       "      <td>0</td>\n",
       "      <td>0</td>\n",
       "      <td>2023-01-01 00:00:13.627</td>\n",
       "      <td>None</td>\n",
       "      <td>NaN</td>\n",
       "      <td>74972430.0</td>\n",
       "      <td>17949945.0</td>\n",
       "      <td>None</td>\n",
       "      <td>None</td>\n",
       "      <td>None</td>\n",
       "      <td>&lt;p&gt;As an alternative you can create a lightwei...</td>\n",
       "      <td>NaN</td>\n",
       "      <td>None</td>\n",
       "      <td>2023-01-01 00:00:13.627</td>\n",
       "    </tr>\n",
       "    <tr>\n",
       "      <th>2</th>\n",
       "      <td>74972585</td>\n",
       "      <td>answer</td>\n",
       "      <td>0</td>\n",
       "      <td>0</td>\n",
       "      <td>0</td>\n",
       "      <td>1</td>\n",
       "      <td>0</td>\n",
       "      <td>2023-01-01 00:00:29.653</td>\n",
       "      <td>None</td>\n",
       "      <td>NaN</td>\n",
       "      <td>74972504.0</td>\n",
       "      <td>17213355.0</td>\n",
       "      <td>None</td>\n",
       "      <td>None</td>\n",
       "      <td>None</td>\n",
       "      <td>&lt;p&gt;I wouldn't bet my money on this though.&lt;/p&gt;...</td>\n",
       "      <td>NaN</td>\n",
       "      <td>None</td>\n",
       "      <td>2023-01-01 00:00:29.653</td>\n",
       "    </tr>\n",
       "    <tr>\n",
       "      <th>3</th>\n",
       "      <td>74972586</td>\n",
       "      <td>answer</td>\n",
       "      <td>0</td>\n",
       "      <td>0</td>\n",
       "      <td>0</td>\n",
       "      <td>0</td>\n",
       "      <td>0</td>\n",
       "      <td>2023-01-01 00:00:46.240</td>\n",
       "      <td>None</td>\n",
       "      <td>NaN</td>\n",
       "      <td>74971582.0</td>\n",
       "      <td>5171120.0</td>\n",
       "      <td>None</td>\n",
       "      <td>None</td>\n",
       "      <td>None</td>\n",
       "      <td>&lt;p&gt;First, I'm not sure how this is a problem, ...</td>\n",
       "      <td>NaN</td>\n",
       "      <td>None</td>\n",
       "      <td>2023-01-01 00:00:46.240</td>\n",
       "    </tr>\n",
       "    <tr>\n",
       "      <th>4</th>\n",
       "      <td>74972588</td>\n",
       "      <td>answer</td>\n",
       "      <td>0</td>\n",
       "      <td>0</td>\n",
       "      <td>0</td>\n",
       "      <td>0</td>\n",
       "      <td>0</td>\n",
       "      <td>2023-01-01 00:01:17.173</td>\n",
       "      <td>None</td>\n",
       "      <td>NaN</td>\n",
       "      <td>74971377.0</td>\n",
       "      <td>7432.0</td>\n",
       "      <td>None</td>\n",
       "      <td>None</td>\n",
       "      <td>None</td>\n",
       "      <td>&lt;p&gt;Tkinter has a widget named &lt;a href=\"https:/...</td>\n",
       "      <td>NaN</td>\n",
       "      <td>None</td>\n",
       "      <td>2023-01-01 00:01:17.173</td>\n",
       "    </tr>\n",
       "  </tbody>\n",
       "</table>\n",
       "</div>"
      ],
      "text/plain": [
       "         id post_type  score  views  answers  comments  favorites  \\\n",
       "0  74972583    answer      1      0        0         2          0   \n",
       "1  74972584    answer      3      0        0         0          0   \n",
       "2  74972585    answer      0      0        0         1          0   \n",
       "3  74972586    answer      0      0        0         0          0   \n",
       "4  74972588    answer      0      0        0         0          0   \n",
       "\n",
       "             creation_date closed_date  accepted_answer_id   parent_id  \\\n",
       "0  2023-01-01 00:00:11.643        None                 NaN  74961937.0   \n",
       "1  2023-01-01 00:00:13.627        None                 NaN  74972430.0   \n",
       "2  2023-01-01 00:00:29.653        None                 NaN  74972504.0   \n",
       "3  2023-01-01 00:00:46.240        None                 NaN  74971582.0   \n",
       "4  2023-01-01 00:01:17.173        None                 NaN  74971377.0   \n",
       "\n",
       "   owner_user_id community_owned_date  tags title  \\\n",
       "0         6309.0                 None  None  None   \n",
       "1     17949945.0                 None  None  None   \n",
       "2     17213355.0                 None  None  None   \n",
       "3      5171120.0                 None  None  None   \n",
       "4         7432.0                 None  None  None   \n",
       "\n",
       "                                                body  last_editor_user_id  \\\n",
       "0  <p>check if the case matters, use <code>java</...                  NaN   \n",
       "1  <p>As an alternative you can create a lightwei...                  NaN   \n",
       "2  <p>I wouldn't bet my money on this though.</p>...                  NaN   \n",
       "3  <p>First, I'm not sure how this is a problem, ...                  NaN   \n",
       "4  <p>Tkinter has a widget named <a href=\"https:/...                  NaN   \n",
       "\n",
       "  last_edit_date       last_activity_date  \n",
       "0           None  2023-01-01 00:00:11.643  \n",
       "1           None  2023-01-01 00:00:13.627  \n",
       "2           None  2023-01-01 00:00:29.653  \n",
       "3           None  2023-01-01 00:00:46.240  \n",
       "4           None  2023-01-01 00:01:17.173  "
      ]
     },
     "execution_count": 14,
     "metadata": {},
     "output_type": "execute_result"
    }
   ],
   "source": [
    "df.head()"
   ]
  },
  {
   "cell_type": "code",
   "execution_count": 32,
   "metadata": {},
   "outputs": [
    {
     "name": "stderr",
     "output_type": "stream",
     "text": [
      "/tmp/ipykernel_3531804/2699433302.py:5: SettingWithCopyWarning: \n",
      "A value is trying to be set on a copy of a slice from a DataFrame.\n",
      "Try using .loc[row_indexer,col_indexer] = value instead\n",
      "\n",
      "See the caveats in the documentation: https://pandas.pydata.org/pandas-docs/stable/user_guide/indexing.html#returning-a-view-versus-a-copy\n",
      "  df_question['month'] = df_question['creation_date'].dt.to_period('M')\n"
     ]
    },
    {
     "data": {
      "text/plain": [
       "month\n",
       "2023-01    121819\n",
       "2023-02    110277\n",
       "2023-03    112796\n",
       "2023-04     89757\n",
       "2023-05     87648\n",
       "2023-06     85453\n",
       "2023-07     84402\n",
       "2023-08     90735\n",
       "2023-09      5684\n",
       "Freq: M, dtype: int64"
      ]
     },
     "execution_count": 32,
     "metadata": {},
     "output_type": "execute_result"
    }
   ],
   "source": [
    "# change creation_date to datetime.\n",
    "df['creation_date'] = pd.to_datetime(df.creation_date)\n",
    "# Select questions from posts\n",
    "df_question = df[df['post_type'] == 'question']\n",
    "df_question['month'] = df_question['creation_date'].dt.to_period('M')\n",
    "df_question.groupby('month').size()"
   ]
  },
  {
   "cell_type": "code",
   "execution_count": 29,
   "metadata": {},
   "outputs": [
    {
     "data": {
      "text/plain": [
       "Index(['id', 'post_type', 'score', 'views', 'answers', 'comments', 'favorites',\n",
       "       'creation_date', 'closed_date', 'accepted_answer_id', 'parent_id',\n",
       "       'owner_user_id', 'community_owned_date', 'tags', 'title', 'body',\n",
       "       'last_editor_user_id', 'last_edit_date', 'last_activity_date', 'month'],\n",
       "      dtype='object')"
      ]
     },
     "execution_count": 29,
     "metadata": {},
     "output_type": "execute_result"
    }
   ],
   "source": [
    "df_question.columns"
   ]
  },
  {
   "cell_type": "code",
   "execution_count": 12,
   "metadata": {},
   "outputs": [
    {
     "data": {
      "text/plain": [
       "id                        int64\n",
       "post_type                object\n",
       "score                     int64\n",
       "views                     int64\n",
       "answers                   int64\n",
       "comments                  int64\n",
       "favorites                 int64\n",
       "creation_date            object\n",
       "closed_date              object\n",
       "accepted_answer_id      float64\n",
       "parent_id               float64\n",
       "owner_user_id             int64\n",
       "community_owned_date     object\n",
       "tags                     object\n",
       "title                    object\n",
       "body                     object\n",
       "last_editor_user_id       int64\n",
       "last_edit_date           object\n",
       "last_activity_date       object\n",
       "dtype: object"
      ]
     },
     "execution_count": 12,
     "metadata": {},
     "output_type": "execute_result"
    }
   ],
   "source": [
    "df.dtypes"
   ]
  },
  {
   "cell_type": "code",
   "execution_count": null,
   "metadata": {},
   "outputs": [],
   "source": [
    "# Close the connection\n",
    "conn.close()"
   ]
  }
 ],
 "metadata": {
  "kernelspec": {
   "display_name": "ahnlab",
   "language": "python",
   "name": "python3"
  },
  "language_info": {
   "codemirror_mode": {
    "name": "ipython",
    "version": 3
   },
   "file_extension": ".py",
   "mimetype": "text/x-python",
   "name": "python",
   "nbconvert_exporter": "python",
   "pygments_lexer": "ipython3",
   "version": "3.10.4"
  }
 },
 "nbformat": 4,
 "nbformat_minor": 2
}
